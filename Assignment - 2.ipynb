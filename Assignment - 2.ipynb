{
 "cells": [
  {
   "cell_type": "markdown",
   "id": "a65be0ff-65d6-4657-af30-521843d93432",
   "metadata": {},
   "source": [
    "Q1. Write a program to accept percentage from the user and display the grade according to the following criteria:"
   ]
  },
  {
   "cell_type": "markdown",
   "id": "f6580d02-f2b1-4a39-bdaf-ffb9f0d04e7f",
   "metadata": {},
   "source": []
  },
  {
   "cell_type": "code",
   "execution_count": 25,
   "id": "56a3be1a-8d60-4c8c-b913-153629c7a75f",
   "metadata": {},
   "outputs": [
    {
     "name": "stdin",
     "output_type": "stream",
     "text": [
      "Pleas put down the number 90\n"
     ]
    },
    {
     "name": "stdout",
     "output_type": "stream",
     "text": [
      "Grade :A\n"
     ]
    }
   ],
   "source": [
    "marks = int(input(\"Pleas put down the number\"))\n",
    "if marks >=90:\n",
    "    print(\"Grade :A\")\n",
    "elif marks >=80 and marks <=90:\n",
    "    print(\"Grade :B\")\n",
    "elif marks >=60 and marks <=80:\n",
    "    print(\"Grade :C\")\n",
    "else :\n",
    "    print(\"Grade :D\")"
   ]
  },
  {
   "cell_type": "markdown",
   "id": "c4d524ea-56ab-4b5c-b6fa-e9d0b73d9202",
   "metadata": {},
   "source": [
    "Q2. Write a program to accept the cost price of a bike and display the road tx to be paid according to the follwong criteria:"
   ]
  },
  {
   "cell_type": "code",
   "execution_count": 4,
   "id": "0f42b047-781c-4c78-8201-2fef8b5dcd5a",
   "metadata": {},
   "outputs": [
    {
     "name": "stdin",
     "output_type": "stream",
     "text": [
      "accept the cost price 10000500\n"
     ]
    },
    {
     "name": "stdout",
     "output_type": "stream",
     "text": [
      "road tax to be paid 1500075.0\n"
     ]
    }
   ],
   "source": [
    "Cost_price = int(input(\"accept the cost price\"))\n",
    "if Cost_price >100000:\n",
    "    tax = 0.15*Cost_price\n",
    "    print(\"road tax to be paid\",tax)\n",
    "elif Cost_price >50000 and Cost_price <=100000:\n",
    "    tax = 0.10*Cost_price\n",
    "    print(\"road tax to be paid\",tax)\n",
    "elif Cost_price <=50000:\n",
    "    tax = 0.5*Cost_price\n",
    "    print(\"road tax to be paid\",tax)\n",
    "    "
   ]
  },
  {
   "cell_type": "markdown",
   "id": "97095e95-7ea4-4e89-b829-7942958a6cef",
   "metadata": {},
   "source": [
    "Q3. Accept any city from the user and display monuments of that city.make a python\n",
    "city, monument\n",
    "delhi, red FOrt\n",
    "Agra , taj mahal\n",
    "jaipur , jalmahal"
   ]
  },
  {
   "cell_type": "code",
   "execution_count": 48,
   "id": "ae8e3f86-80d9-41f9-b256-f12ceba8f402",
   "metadata": {},
   "outputs": [
    {
     "name": "stdin",
     "output_type": "stream",
     "text": [
      "Enter a city name:  Delhi\n"
     ]
    },
    {
     "name": "stdout",
     "output_type": "stream",
     "text": [
      "Monuments in Delhi:\n",
      "- Red Fort\n"
     ]
    }
   ],
   "source": [
    "city_monuments = {\n",
    "    \"Delhi\": [\"Red Fort\"],\n",
    "    \"Agra\": [\"Taj Mahal\"],\n",
    "    \"Jaipur\": [\"Jal Mahal\"]\n",
    "}\n",
    "\n",
    "city = input(\"Enter a city name: \")\n",
    "\n",
    "if city in city_monuments:\n",
    "    monuments = city_monuments[city]\n",
    "    print(\"Monuments in {}:\".format(city))\n",
    "    for monument in monuments:\n",
    "        print(\"- {}\".format(monument))\n",
    "else:\n",
    "    print(\"Monuments not available for the given city.\")\n"
   ]
  },
  {
   "cell_type": "markdown",
   "id": "b9351e8d-1b47-4f03-9840-90532031dc7b",
   "metadata": {},
   "source": [
    "Q4. Check how many times given number can be divided by 3 before it is less than or equal to 10"
   ]
  },
  {
   "cell_type": "code",
   "execution_count": 49,
   "id": "0d9b200c-4dcf-49d7-ae7d-8103b251e2ba",
   "metadata": {},
   "outputs": [
    {
     "name": "stdin",
     "output_type": "stream",
     "text": [
      "Enter a number:  5\n"
     ]
    },
    {
     "name": "stdout",
     "output_type": "stream",
     "text": [
      "The number can be divided by 3 0 times before it becomes less than or equal to 10.\n"
     ]
    }
   ],
   "source": [
    "def divide_by_3(number):\n",
    "    count = 0\n",
    "    while number > 10:\n",
    "        number = number / 3\n",
    "        count += 1\n",
    "    return count\n",
    "\n",
    "number = int(input(\"Enter a number: \"))\n",
    "result = divide_by_3(number)\n",
    "print(\"The number can be divided by 3 {} times before it becomes less than or equal to 10.\".format(result))\n"
   ]
  },
  {
   "cell_type": "code",
   "execution_count": 8,
   "id": "3935af2c-dd70-40d4-80de-fcc87ea63a85",
   "metadata": {},
   "outputs": [
    {
     "name": "stdin",
     "output_type": "stream",
     "text": [
      "Enter a number: 9\n"
     ]
    },
    {
     "name": "stdout",
     "output_type": "stream",
     "text": [
      "the number can be divided by 3 0 times before it becomes less than or equal to 10. \n"
     ]
    }
   ],
   "source": [
    "def divide_by_3(number):\n",
    "    count = 0\n",
    "    while number > 10 :\n",
    "        number = number / 3\n",
    "        count += 1\n",
    "    return count\n",
    "number = int (input(\"Enter a number:\"))\n",
    "result = divide_by_3(number)\n",
    "print(\"the number can be divided by 3 {} times before it becomes less than or equal to 10. \". format(result))"
   ]
  },
  {
   "cell_type": "code",
   "execution_count": null,
   "id": "6ede3b11-9253-400f-81a6-dc13383090c7",
   "metadata": {},
   "outputs": [],
   "source": []
  },
  {
   "cell_type": "markdown",
   "id": "8bfdfe7b-f49b-4f38-afe5-1ea3cfc535dd",
   "metadata": {},
   "source": [
    "Q5. Why and When to use while loop in python give a detailed description with example "
   ]
  },
  {
   "cell_type": "markdown",
   "id": "86bb3a6d-55f8-41c3-8245-f4e864a06440",
   "metadata": {},
   "source": [
    "A while loop in Python is used when you want to repeatedly execute a block of code as long as a certain condition is true. It is a type of loop that checks the condition before each iteration, and if the condition is false, the loop is exited.\n",
    "\n",
    "In this syntax, item is a variable that takes on the value of each item in the sequence during each iteration of the loop. The sequence can be any iterable object, such as a list, tuple, string, or range."
   ]
  },
  {
   "cell_type": "code",
   "execution_count": null,
   "id": "2be9f97d-6f21-4389-8dc7-c87094e2b3d3",
   "metadata": {},
   "outputs": [],
   "source": []
  },
  {
   "cell_type": "markdown",
   "id": "2319bd02-6ea9-4728-ae70-38e80ae2345c",
   "metadata": {},
   "source": [
    "Q6. Use nosted while loop to print 3 different pattern."
   ]
  },
  {
   "cell_type": "code",
   "execution_count": 2,
   "id": "44a5b371-9f6c-4ce5-b187-6e7bffdf9311",
   "metadata": {},
   "outputs": [
    {
     "name": "stdout",
     "output_type": "stream",
     "text": [
      "*\n",
      "**\n",
      "***\n",
      "****\n",
      "*****\n",
      "\n",
      "\n",
      "*****\n",
      "****\n",
      "***\n",
      "**\n",
      "*\n",
      "\n",
      "\n",
      "    *\n",
      "   **\n",
      "  ***\n",
      " ****\n",
      "*****\n"
     ]
    }
   ],
   "source": [
    "# Pattern 1\n",
    "i = 1\n",
    "while i <= 5:\n",
    "    j = 1\n",
    "    while j <= i:\n",
    "        print(\"*\", end=\"\")\n",
    "        j += 1\n",
    "    print()\n",
    "    i += 1\n",
    "\n",
    "print(\"\\n\")\n",
    "\n",
    "# Pattern 2\n",
    "i = 5\n",
    "while i >= 1:\n",
    "    j = 1\n",
    "    while j <= i:\n",
    "        print(\"*\", end=\"\")\n",
    "        j += 1\n",
    "    print()\n",
    "    i -= 1\n",
    "\n",
    "print(\"\\n\")\n",
    "\n",
    "# Pattern 3\n",
    "i = 1\n",
    "while i <= 5:\n",
    "    j = 1\n",
    "    while j <= 5:\n",
    "        if j < 6-i:\n",
    "            print(\" \", end=\"\")\n",
    "        else:\n",
    "            print(\"*\", end=\"\")\n",
    "        j += 1\n",
    "    print()\n",
    "    i += 1\n"
   ]
  },
  {
   "cell_type": "markdown",
   "id": "ac769d90-1b7b-4d88-bbfb-d12c38c74f9d",
   "metadata": {},
   "source": [
    "Q7. Reverse a while loop to display numbers from 10 to 1."
   ]
  },
  {
   "cell_type": "code",
   "execution_count": 7,
   "id": "89d69ca2-204a-4ebe-a491-70ee81ac1507",
   "metadata": {},
   "outputs": [],
   "source": [
    "l = [1,2,3,4,5,6,7,8,9,10]"
   ]
  },
  {
   "cell_type": "code",
   "execution_count": null,
   "id": "8a8d43c4-fa8d-4252-a48c-e4e1620ca3f1",
   "metadata": {},
   "outputs": [],
   "source": [
    "number = 10\n",
    "while number >= 1:\n",
    "    print(number)\n",
    "    number -= 1\n"
   ]
  }
 ],
 "metadata": {
  "kernelspec": {
   "display_name": "Python 3 (ipykernel)",
   "language": "python",
   "name": "python3"
  },
  "language_info": {
   "codemirror_mode": {
    "name": "ipython",
    "version": 3
   },
   "file_extension": ".py",
   "mimetype": "text/x-python",
   "name": "python",
   "nbconvert_exporter": "python",
   "pygments_lexer": "ipython3",
   "version": "3.10.8"
  }
 },
 "nbformat": 4,
 "nbformat_minor": 5
}
